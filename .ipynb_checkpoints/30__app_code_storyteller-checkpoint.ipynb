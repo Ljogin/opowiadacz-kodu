{
 "cells": [
  {
   "cell_type": "markdown",
   "metadata": {},
   "source": [
    "# Aplikacja Opowiadacz kodu\n",
    "\n",
    "Wyobraź sobie aplikację, która potrafi opowiedzieć co robi kod. Wystarczy, że podasz jej kod źródłowy, a ona zwróci Ci opis, co ten kod robi.\n",
    "Możesz przy tym wybierać jeden z dwóch poziomów szczegółowości opisu:\n",
    "- **szczegółowy** - opisuje każdą linię kodu\n",
    "- **ogólny** - opisuje cały kod w jednym zdaniu\n",
    "\n",
    "Dodatkowo istnieje możliwość wygenerowania kodu w formie audio. Wówczas nie dość, że aplikacja opowie Ci co robi kod, to jeszcze posłuchasz tego w formie podcastu."
   ]
  },
  {
   "cell_type": "markdown",
   "metadata": {},
   "source": [
    "## Specyfikacja / Specs\n",
    "\n",
    "Użytkownik:\n",
    "* Podaje kod źródłowy.\n",
    "* Wybiera poziom szczegółowości opisu.\n",
    "* Otrzymuje opis kodu w formie tekstowej i audio.\n",
    "\n",
    "## Do kogo skierowana jest aplikacja?\n",
    "\n",
    "* Dla osób, które chcą zrozumieć kod źródłowy, ale niekoniecznie znają język programowania.\n",
    "* Dla osób, które szybko muszą zrozumieć kod źródłowy, ale nie mają czasu na jego analizę."
   ]
  },
  {
   "cell_type": "markdown",
   "metadata": {},
   "source": [
    "## Architektura\n",
    "\n",
    "![](30__app_code_story_teller.excalidraw.png)"
   ]
  },
  {
   "cell_type": "markdown",
   "metadata": {},
   "source": [
    "## Plan / Taski - wersje podstawowe\n",
    "\n",
    "* v1 - wczytywanie kodu źródłowego \n",
    "* v2 - opisywanie kodu na poziomie ogólnym używając języka naturalnego, czyli potrafi w kilku zdaniach opisać co kod mniej więcej robi\n",
    "* v3 - opisywanie kodu na poziomie szczegółowym używając języka naturalnego, czyli potrafi opisać co każda linia / blok kodu robi\n",
    "\n",
    "## Plan / Taski - wersje rozszerzone (opcjonalne)\n",
    "\n",
    "* v4 - wygenerowanie opisu w formie audio\n",
    "* v5 - aplikacja powinna zbierać informacje odnoście kosztu wygenerowania opisu kodu źródłowego (tekst i audio)\n",
    "* v6 - aplikacja powinna przechowywać informacje o kodzie źródłowym i opisie w bazie danych (pliki, sqlite, qdrant)\n",
    "* v7 - aplikacja powinna pozwalać wyświetlać historię opisów kodu źródłowego"
   ]
  },
  {
   "cell_type": "markdown",
   "metadata": {},
   "source": [
    "## Zależności\n",
    "* `streamlit` - do budowy interfejsu użytkownika.\n",
    "    * do wpisywania kodu można użyć [`st.text_area`](https://docs.streamlit.io/develop/api-reference/widgets/st.text_area)\n",
    "* `openai` i modelu `gpt-4o` lub `gpt-4o-mini` - do generowania opisu kodu. \n",
    "* `openai` i modelu `tts-1` - do generowania opisu kodu w formie audio. \n",
    "* `dotenv` - do przechowywania klucza openai."
   ]
  },
  {
   "cell_type": "markdown",
   "metadata": {},
   "source": [
    "## FAQ\n",
    "\n",
    "### Co zrobić w sytuacji, gdy mam pytania odnośnie projektu?\n",
    "\n",
    "Każdy projekt ma dedykowany kanał na discordzie, ten projekt ma kanał `#projekt-app_code_storyteller`. W razie pytań, zapraszam do zadawania ich na kanale.\n",
    "\n",
    "### Gdzie przesłać link do projektu?\n",
    "\n",
    "Na kanał `#projekt-app_code_storyteller` na discordzie proszę o wysłanie:\n",
    "* Linku do aplikacji - aplikacja powinna być wdrożona i dostępna publicznie\n",
    "* Linku do repozytorium z kodem źródłowym (github)\n",
    "\n",
    "### Jakie są kryteria oceny projektu?\n",
    "\n",
    "* Czy aplikacja działa?\n",
    "* Czy aplikacja spełnia założenia projektu?\n",
    "* Czy aplikacja jest wdrożona i publicznie dostępna?\n",
    "\n",
    "### Jakie są terminy?\n",
    "\n",
    "* nie ma, projekt jest otwarty i można go wykonać w dowolnym momencie\n",
    "* możesz spokojnie zacząć projekt w tym module i pracować nad nim do końca kursu\n",
    "\n",
    "### Czy mogę zmodyfikować założenia projektu?\n",
    "\n",
    "Tak, możesz dodać dodatkowe funkcjonalności, które nie są opisane w specyfikacji projektu. Możesz również zmodyfikować istniejące funkcjonalności.\n",
    "Jednak pamiętaj, że w takim przypadku jednoznacznie musisz to opisać w repozytorium projektu.\n",
    "Dodaj plik `README.md` w którym opiszesz zmiany względem specyfikacji projektu.\n",
    "\n",
    "### Czy mogę wykonać projekt w grupie?\n",
    "\n",
    "Tak jest, wówczas proszę o przesłanie listy osób, które pracowały nad projektem.\n",
    "\n",
    "### Czy mogę wykonać projekt w innej technologii?\n",
    "\n",
    "Tak, możesz wykonać projekt w innej technologii, ale pamiętaj, że wówczas musisz dostarczyć dodatkowe informacje jak zainstalować i uruchomić projekt.\n",
    "\n",
    "### Czy mogę pracować nad więcej niż jednym projektem?\n",
    "\n",
    "TAK! Zachęcam do pracy nad wieloma projektami. Każdy projekt to nowe wyzwanie i nowe umiejętności, które zdobędziesz.\n",
    "Po ukończeniu każdego z projektów twoim zadaniem będzie uzupełnienie Twojego portfolio o nowy projekt. Ale o tym dowiesz się w **Module 11**\n"
   ]
  },
  {
   "cell_type": "markdown",
   "metadata": {},
   "source": [
    "## "
   ]
  }
 ],
 "metadata": {
  "kernelspec": {
   "display_name": "Python 3 (ipykernel)",
   "language": "python",
   "name": "python3"
  },
  "language_info": {
   "codemirror_mode": {
    "name": "ipython",
    "version": 3
   },
   "file_extension": ".py",
   "mimetype": "text/x-python",
   "name": "python",
   "nbconvert_exporter": "python",
   "pygments_lexer": "ipython3",
   "version": "3.11.9"
  }
 },
 "nbformat": 4,
 "nbformat_minor": 4
}
